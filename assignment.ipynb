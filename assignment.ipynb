{
 "cells": [
  {
   "cell_type": "markdown",
   "metadata": {},
   "source": [
    "# Assignment\n"
   ]
  },
  {
   "cell_type": "markdown",
   "metadata": {},
   "source": [
    "### My name is Tanseer Haider. I am learning Tools for Data Science.\n"
   ]
  },
  {
   "cell_type": "markdown",
   "metadata": {},
   "source": [
    "### Data Science Languages\n",
    "\n",
    "1. Python\n",
    "2. R\n"
   ]
  },
  {
   "cell_type": "markdown",
   "metadata": {},
   "source": [
    "### Data Science Libraries\n",
    "\n",
    "1. Numpy\n",
    "2. Matplotlib\n",
    "3. ggplot\n",
    "4. plotly\n",
    "5. Seaborn\n",
    "6. PySpark\n",
    "7. and many more\n"
   ]
  },
  {
   "cell_type": "markdown",
   "metadata": {},
   "source": [
    "| Tool Name             | Description                                  |\n",
    "| --------------------- | -------------------------------------------- |\n",
    "| **R**                 | Statistical computing and data analysis      |\n",
    "| **Python**            | General-purpose programming and data science |\n",
    "| **Jupyter Notebooks** | Interactive computing and data exploration   |\n",
    "| **NumPy**             | Numerical computing library for Python       |\n",
    "| **Pandas**            | Data manipulation and analysis in Python     |\n",
    "| **Scikit-learn**      | Machine learning library for Python          |\n",
    "| **TensorFlow**        | Open-source machine learning framework       |\n",
    "| **PyTorch**           | Deep learning framework for Python           |\n",
    "| **Tableau**           | Data visualization and business intelligence |\n",
    "| **SQL**               | Database querying and manipulation           |\n"
   ]
  },
  {
   "cell_type": "markdown",
   "metadata": {},
   "source": [
    "Example expressions:\n",
    "\n",
    "- 2 + 3 \\* 4\n",
    "- (10 - 5) / 2\n",
    "- x + y\n",
    "- 4^2\n"
   ]
  },
  {
   "cell_type": "code",
   "execution_count": null,
   "metadata": {},
   "outputs": [],
   "source": [
    "a = float(input(\"Enter 1st number : \"))\n",
    "b = float(input(\"Enter 2nd number : \"))\n",
    "print(f\"The product is {a*b}.\")"
   ]
  },
  {
   "cell_type": "code",
   "execution_count": null,
   "metadata": {},
   "outputs": [],
   "source": [
    "def convert_minutes_to_hours(minutes):\n",
    "    \"\"\"Converts minutes to hours, handling both whole and fractional hours.\n",
    "\n",
    "    Args:\n",
    "      minutes: The number of minutes to convert.\n",
    "\n",
    "    Returns:\n",
    "      The equivalent number of hours as a float.\n",
    "    \"\"\"\n",
    "\n",
    "    hours = minutes / 60\n",
    "    return hours"
   ]
  },
  {
   "cell_type": "markdown",
   "metadata": {},
   "source": [
    "#### Objectives.\n",
    "\n",
    "To be a proficient Data Scientist.\n"
   ]
  },
  {
   "cell_type": "markdown",
   "metadata": {},
   "source": [
    "#### Tanseer Haider\n"
   ]
  }
 ],
 "metadata": {
  "language_info": {
   "name": "python"
  }
 },
 "nbformat": 4,
 "nbformat_minor": 2
}
